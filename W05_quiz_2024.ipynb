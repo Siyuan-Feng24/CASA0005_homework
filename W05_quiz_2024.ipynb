{
  "cells": [
    {
      "cell_type": "markdown",
      "metadata": {
        "id": "view-in-github",
        "colab_type": "text"
      },
      "source": [
        "<a href=\"https://colab.research.google.com/github/Siyuan-Feng24/CASA0005_homework/blob/main/W05_quiz_2024.ipynb\" target=\"_parent\"><img src=\"https://colab.research.google.com/assets/colab-badge.svg\" alt=\"Open In Colab\"/></a>"
      ]
    },
    {
      "cell_type": "markdown",
      "id": "0uOOJ-4J1yGS",
      "metadata": {
        "id": "0uOOJ-4J1yGS"
      },
      "source": [
        "# Week 5 Quiz\n",
        "\n",
        "This notebook contains the SQL Quiz for Week 5. Section 1 uses the New York City data we know and love. Section 2 uses building footprint data from the Google Open Buildings dataset.\n",
        "\n",
        "INSTRUCTIONS:\n",
        "\n",
        "Run this notebook in Google Colab. The answer to each question will be a number or a string. Input these into the corresponding question on Moodle. You have 90 minutes to attempt the quiz, so if you get stuck on a question, move on.\n",
        "\n",
        "Make sure you run all of the cells of code in order, especially the ones that already have code in them! If you run into serious problems, try clicking on the \"runtime\" tab above and selecting \"restart session and run all\"."
      ]
    },
    {
      "cell_type": "code",
      "execution_count": null,
      "id": "lyag8AUA1yGT",
      "metadata": {
        "id": "lyag8AUA1yGT"
      },
      "outputs": [],
      "source": [
        "%pip install duckdb duckdb-engine jupysql leafmap"
      ]
    },
    {
      "cell_type": "code",
      "execution_count": null,
      "id": "f2YNMKr71yGU",
      "metadata": {
        "id": "f2YNMKr71yGU"
      },
      "outputs": [],
      "source": [
        "import duckdb\n",
        "import leafmap\n",
        "%load_ext sql\n",
        "%config SqlMagic.autopandas = True\n",
        "%config SqlMagic.feedback = False\n",
        "%config SqlMagic.displaycon = False"
      ]
    },
    {
      "cell_type": "code",
      "execution_count": null,
      "id": "35de98cc",
      "metadata": {
        "id": "35de98cc"
      },
      "outputs": [],
      "source": [
        "%%sql\n",
        "duckdb:///:memory:\n",
        "INSTALL spatial;\n",
        "LOAD spatial;\n"
      ]
    },
    {
      "cell_type": "markdown",
      "id": "oV3MzAJb1yGU",
      "metadata": {
        "id": "oV3MzAJb1yGU"
      },
      "source": [
        "# Section 1\n",
        "\n"
      ]
    },
    {
      "cell_type": "markdown",
      "id": "j9Eitay5ol_6",
      "metadata": {
        "id": "j9Eitay5ol_6"
      },
      "source": [
        "The code below downloads the data on New York City that we've been working with so far."
      ]
    },
    {
      "cell_type": "code",
      "execution_count": null,
      "id": "a2284993",
      "metadata": {
        "id": "a2284993"
      },
      "outputs": [],
      "source": [
        "url='https://s3.amazonaws.com/s3.cleverelephant.ca/postgis-workshop-2020.zip'\n",
        "leafmap.download_file(url, unzip=True)"
      ]
    },
    {
      "cell_type": "markdown",
      "id": "BgQSPQs-ovgM",
      "metadata": {
        "id": "BgQSPQs-ovgM"
      },
      "source": [
        "The following line of code creates a table called `nyc_neighborhoods` from a shapefile called `nyc_neighborhoods.shp`, located in the `postgis-workshop/data/` folder."
      ]
    },
    {
      "cell_type": "code",
      "execution_count": null,
      "id": "M_bntQXP1yGU",
      "metadata": {
        "id": "M_bntQXP1yGU"
      },
      "outputs": [],
      "source": [
        "%%sql\n",
        "\n",
        "CREATE TABLE nyc_neighborhoods AS SELECT * FROM \"postgis-workshop/data/nyc_neighborhoods.shp\";"
      ]
    },
    {
      "cell_type": "markdown",
      "id": "IcxqN9YesiBp",
      "metadata": {
        "id": "IcxqN9YesiBp"
      },
      "source": [
        "The `%%sql` at the top of the cell allows you to run SQL code in the rest of the cell:"
      ]
    },
    {
      "cell_type": "code",
      "execution_count": null,
      "id": "4b6G931jsZD_",
      "metadata": {
        "id": "4b6G931jsZD_"
      },
      "outputs": [],
      "source": [
        "%%sql\n",
        "\n",
        "SELECT * FROM nyc_neighborhoods;"
      ]
    },
    {
      "cell_type": "markdown",
      "id": "418e28a1",
      "metadata": {
        "id": "418e28a1"
      },
      "source": [
        "## Question 1\n",
        "\n",
        "Create the following tables using the corresponding shapefiles.\n",
        "- nyc_census_blocks\n",
        "- nyc_homicides\n",
        "- nyc_streets\n",
        "- nyc_subway_stations"
      ]
    },
    {
      "cell_type": "code",
      "execution_count": null,
      "id": "94c4cff1",
      "metadata": {
        "id": "94c4cff1"
      },
      "outputs": [],
      "source": [
        "%%sql\n"
      ]
    },
    {
      "cell_type": "markdown",
      "id": "cNYR7ht61yGV",
      "metadata": {
        "id": "cNYR7ht61yGV"
      },
      "source": [
        "## Question 2:\n",
        "How many rows are there in the nyc_homicides table?\n",
        "\n"
      ]
    },
    {
      "cell_type": "code",
      "execution_count": null,
      "id": "h95FJaaD1yGV",
      "metadata": {
        "id": "h95FJaaD1yGV"
      },
      "outputs": [],
      "source": [
        "%%sql\n"
      ]
    },
    {
      "cell_type": "markdown",
      "id": "BfjA1rkU1yGV",
      "metadata": {
        "id": "BfjA1rkU1yGV"
      },
      "source": [
        "## Question 3:\n",
        "\n",
        "How many homicides were there in Brooklyn in 2008?"
      ]
    },
    {
      "cell_type": "code",
      "execution_count": null,
      "id": "OMu1B0Nq1yGV",
      "metadata": {
        "id": "OMu1B0Nq1yGV"
      },
      "outputs": [],
      "source": [
        "%%sql\n"
      ]
    },
    {
      "cell_type": "markdown",
      "id": "ayFuut_v8DIJ",
      "metadata": {
        "id": "ayFuut_v8DIJ"
      },
      "source": [
        "## Question 4:\n",
        "\n",
        "Which neighborhood of New York had the most murders in 2010?"
      ]
    },
    {
      "cell_type": "code",
      "execution_count": null,
      "id": "V8JPo3Ab1yGV",
      "metadata": {
        "id": "V8JPo3Ab1yGV"
      },
      "outputs": [],
      "source": [
        "%%sql\n",
        "\n"
      ]
    },
    {
      "cell_type": "markdown",
      "id": "bI-t4ks380wI",
      "metadata": {
        "id": "bI-t4ks380wI"
      },
      "source": [
        "## Question 5\n",
        "\n",
        "Calculate the per-capita murder rates for each borough of New York."
      ]
    },
    {
      "cell_type": "code",
      "execution_count": null,
      "id": "uOsz1fQO9PIf",
      "metadata": {
        "id": "uOsz1fQO9PIf"
      },
      "outputs": [],
      "source": [
        "%%sql\n"
      ]
    },
    {
      "cell_type": "markdown",
      "id": "zBfMLOCVBuqP",
      "metadata": {
        "id": "zBfMLOCVBuqP"
      },
      "source": [
        "# Section 2\n",
        "\n",
        "This section uses building footprint data generated by Google. Each row is a polygon that specifies the outline of a building detected using AI and satellite imagery.\n",
        "\n",
        "![](https://sites.research.google/open-buildings/static/img/buildings-header-light-cropped.png)\n",
        "\n",
        "We're going to be working with all of the building footprints identified in Kigali, the capital city of Rwanda.\n",
        "\n",
        "The code below creates a table called `kigali_buildings` by reading a parquet file hosted a the URL in the final line."
      ]
    },
    {
      "cell_type": "code",
      "execution_count": null,
      "id": "_WteGDq0CdjV",
      "metadata": {
        "id": "_WteGDq0CdjV"
      },
      "outputs": [],
      "source": [
        "%%sql\n",
        "\n",
        "CREATE TABLE kigali_buildings AS\n",
        "SELECT full_plus_code as building_id, ST_GeomFromWKB(geometry) as geom\n",
        "FROM read_parquet('https://data.source.coop/cholmes/google-open-buildings/v2/geoparquet-admin1/country=RWA/City_of_Kigali.parquet');"
      ]
    },
    {
      "cell_type": "markdown",
      "id": "BFFlj9nf5pzh",
      "metadata": {
        "id": "BFFlj9nf5pzh"
      },
      "source": [
        "Our table has two columns; one called `building_id` which is a unique identifier for each building footprint, and `geom` which contains the geometry information."
      ]
    },
    {
      "cell_type": "code",
      "execution_count": null,
      "id": "e0t4a4iuGgE5",
      "metadata": {
        "id": "e0t4a4iuGgE5"
      },
      "outputs": [],
      "source": [
        "%%sql\n",
        "select * from kigali_buildings"
      ]
    },
    {
      "cell_type": "markdown",
      "id": "R91M8AllIBHG",
      "metadata": {
        "id": "R91M8AllIBHG"
      },
      "source": [
        "## Question 6\n",
        "Complete the code below to create a column called `area` which calculates the area of each building using the `geom` column and multiply the result by 12356260000 to get the area in meters."
      ]
    },
    {
      "cell_type": "code",
      "execution_count": null,
      "id": "B5mc7JSMCnbs",
      "metadata": {
        "id": "B5mc7JSMCnbs"
      },
      "outputs": [],
      "source": [
        "%%sql\n",
        "\n",
        "ALTER TABLE kigali_buildings ADD COLUMN area DOUBLE;\n",
        "UPDATE kigali_buildings SET area = ..."
      ]
    },
    {
      "cell_type": "markdown",
      "id": "R4R_j5w2Jk6w",
      "metadata": {
        "id": "R4R_j5w2Jk6w"
      },
      "source": [
        "## Question 7\n",
        "\n",
        "How many buildings in Kigali are larger than 100 square meters?"
      ]
    },
    {
      "cell_type": "code",
      "execution_count": null,
      "id": "EPhpQNI7GGAI",
      "metadata": {
        "id": "EPhpQNI7GGAI"
      },
      "outputs": [],
      "source": [
        "%%sql\n"
      ]
    },
    {
      "cell_type": "markdown",
      "id": "SIcc0Qf7Lbfg",
      "metadata": {
        "id": "SIcc0Qf7Lbfg"
      },
      "source": [
        "## Question 8\n",
        "\n",
        "How many square meters is the largest building in Kigali?"
      ]
    },
    {
      "cell_type": "code",
      "execution_count": null,
      "id": "cEvYw6lLL4Hp",
      "metadata": {
        "id": "cEvYw6lLL4Hp"
      },
      "outputs": [],
      "source": [
        "%%sql\n"
      ]
    },
    {
      "cell_type": "markdown",
      "id": "yWwYC9E2j7EQ",
      "metadata": {
        "id": "yWwYC9E2j7EQ"
      },
      "source": [
        "## Question 9\n",
        "\n",
        "How many buildings are within a distance of 0.001 from the largest building in Kigali? (be careful)"
      ]
    },
    {
      "cell_type": "code",
      "execution_count": null,
      "id": "EG8HtswUQgWX",
      "metadata": {
        "id": "EG8HtswUQgWX"
      },
      "outputs": [],
      "source": [
        "%%sql\n"
      ]
    },
    {
      "cell_type": "markdown",
      "id": "yRUEI6lbwYgk",
      "metadata": {
        "id": "yRUEI6lbwYgk"
      },
      "source": [
        "## Question 10\n",
        "\n",
        "A common characteristic of informal settlements (sometimes referred to as \"slums\") is the presence of a large number of buildings in close proximity to each other. In this question, we are going to create a measure of building density.\n",
        "\n",
        "First, let's create a new table called `sample` which contains the first 1000 rows of data in our datset:"
      ]
    },
    {
      "cell_type": "code",
      "execution_count": null,
      "id": "ZnLOSTS5wjjm",
      "metadata": {
        "id": "ZnLOSTS5wjjm"
      },
      "outputs": [],
      "source": [
        "%%sql\n",
        "\n",
        "CREATE TABLE sample AS SELECT * FROM kigali_buildings limit 1000;"
      ]
    },
    {
      "cell_type": "markdown",
      "id": "3Zbo7LeVyfSU",
      "metadata": {
        "id": "3Zbo7LeVyfSU"
      },
      "source": [
        "Spatially join the `sample` table to itself to identify buildings within a distance of 0.001 of each other. (Hint: `count` and `group by` will be useful functions).\n",
        "\n",
        "What is the `building_id` of the building with the greatest number of buildings within a distance of 0.001?"
      ]
    },
    {
      "cell_type": "code",
      "execution_count": null,
      "id": "AvNqi6csvBFR",
      "metadata": {
        "id": "AvNqi6csvBFR"
      },
      "outputs": [],
      "source": [
        "%%sql\n",
        "\n",
        "\n"
      ]
    }
  ],
  "metadata": {
    "colab": {
      "provenance": [],
      "include_colab_link": true
    },
    "kernelspec": {
      "display_name": "Python (base)",
      "language": "python",
      "name": "base"
    },
    "language_info": {
      "codemirror_mode": {
        "name": "ipython",
        "version": 3
      },
      "file_extension": ".py",
      "mimetype": "text/x-python",
      "name": "python",
      "nbconvert_exporter": "python",
      "pygments_lexer": "ipython3",
      "version": "3.11.9"
    }
  },
  "nbformat": 4,
  "nbformat_minor": 5
}